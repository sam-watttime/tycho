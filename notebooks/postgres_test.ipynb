{
 "metadata": {
  "language_info": {
   "codemirror_mode": {
    "name": "ipython",
    "version": 3
   },
   "file_extension": ".py",
   "mimetype": "text/x-python",
   "name": "python",
   "nbconvert_exporter": "python",
   "pygments_lexer": "ipython3",
   "version": "3.8.2-final"
  },
  "orig_nbformat": 2,
  "kernelspec": {
   "name": "python3",
   "display_name": "Python 3"
  }
 },
 "nbformat": 4,
 "nbformat_minor": 2,
 "cells": [
  {
   "cell_type": "code",
   "execution_count": 1,
   "metadata": {
    "tags": []
   },
   "outputs": [
    {
     "output_type": "stream",
     "name": "stdout",
     "text": "/home/sam/tycho/notebooks\n/home/sam/tycho\n"
    }
   ],
   "source": [
    "import sqlalchemy as sa\n",
    "import pandas as pd\n",
    "import os\n",
    "\n",
    "print(os.getcwd())\n",
    "os.chdir('..')\n",
    "print(os.getcwd())\n",
    "\n",
    "from tycho import database as db"
   ]
  },
  {
   "cell_type": "code",
   "execution_count": 2,
   "metadata": {},
   "outputs": [
    {
     "output_type": "execute_result",
     "data": {
      "text/plain": "        plant_id_wri datetime_utc country  latitude  longitude primary_fuel  \\\n0       GEODB0040540   2019-01-06     AFG    34.564     69.113          Gas   \n1         WRI1023776   2019-01-06     DZA    35.866      6.026          Gas   \n2         WRI1023795   2019-01-06     DZA    36.892      7.763          Gas   \n3         WRI1023777   2019-01-06     DZA    36.599      3.138          Gas   \n4         WRI1023792   2019-01-06     DZA    36.591      2.922          Gas   \n...              ...          ...     ...       ...        ...          ...   \n447975    WRI1022376   2019-12-29     ZMB   -17.353     27.186         Coal   \n447976    WRI1022390   2019-12-29     ZMB   -12.550     28.233          Oil   \n447977    WRI1022386   2019-12-29     ZMB   -12.967     28.633          Oil   \n447978    WRI1022384   2019-12-29     ZMB   -12.817     28.200          Oil   \n447979  GEODB0040404   2019-12-29     ZWE   -18.384     26.470         Coal   \n\n        estimated_generation_gwh  wri_capacity_mw  pred_gross_load_mw  \\\n0                            NaN             42.0                 NaN   \n1                    2152.249819            520.0        39266.042969   \n2                     293.864879             71.0         7064.059594   \n3                    2317.807497            560.0        48578.000000   \n4                     413.894196            100.0         2060.413086   \n...                          ...              ...                 ...   \n447975                       NaN            300.0                 NaN   \n447976                 24.174528             10.0          581.118469   \n447977                120.872642             50.0          123.753326   \n447978                 48.349057             20.0         1162.236938   \n447979               4397.000000            920.0        84624.390625   \n\n        pred_so2_lbs  pred_nox_lbs  pred_co2_lbs  \n0        1837.365601   6005.484863    49241228.0  \n1        1726.391235   5893.828613    37106708.0  \n2           0.000000      0.000000     2268158.0  \n3           0.000000   2572.465576    33298784.0  \n4           0.000000   6145.056152    16438202.0  \n...              ...           ...           ...  \n447975   2904.101562  27470.878906   109063128.0  \n447976   8050.207031   2955.868164    21576880.0  \n447977  11604.954102   4977.986328    26606196.0  \n447978   7332.768066   2400.902344    28459432.0  \n447979  34100.468750  70906.992188   157432816.0  \n\n[447980 rows x 12 columns]",
      "text/html": "<div>\n<style scoped>\n    .dataframe tbody tr th:only-of-type {\n        vertical-align: middle;\n    }\n\n    .dataframe tbody tr th {\n        vertical-align: top;\n    }\n\n    .dataframe thead th {\n        text-align: right;\n    }\n</style>\n<table border=\"1\" class=\"dataframe\">\n  <thead>\n    <tr style=\"text-align: right;\">\n      <th></th>\n      <th>plant_id_wri</th>\n      <th>datetime_utc</th>\n      <th>country</th>\n      <th>latitude</th>\n      <th>longitude</th>\n      <th>primary_fuel</th>\n      <th>estimated_generation_gwh</th>\n      <th>wri_capacity_mw</th>\n      <th>pred_gross_load_mw</th>\n      <th>pred_so2_lbs</th>\n      <th>pred_nox_lbs</th>\n      <th>pred_co2_lbs</th>\n    </tr>\n  </thead>\n  <tbody>\n    <tr>\n      <th>0</th>\n      <td>GEODB0040540</td>\n      <td>2019-01-06</td>\n      <td>AFG</td>\n      <td>34.564</td>\n      <td>69.113</td>\n      <td>Gas</td>\n      <td>NaN</td>\n      <td>42.0</td>\n      <td>NaN</td>\n      <td>1837.365601</td>\n      <td>6005.484863</td>\n      <td>49241228.0</td>\n    </tr>\n    <tr>\n      <th>1</th>\n      <td>WRI1023776</td>\n      <td>2019-01-06</td>\n      <td>DZA</td>\n      <td>35.866</td>\n      <td>6.026</td>\n      <td>Gas</td>\n      <td>2152.249819</td>\n      <td>520.0</td>\n      <td>39266.042969</td>\n      <td>1726.391235</td>\n      <td>5893.828613</td>\n      <td>37106708.0</td>\n    </tr>\n    <tr>\n      <th>2</th>\n      <td>WRI1023795</td>\n      <td>2019-01-06</td>\n      <td>DZA</td>\n      <td>36.892</td>\n      <td>7.763</td>\n      <td>Gas</td>\n      <td>293.864879</td>\n      <td>71.0</td>\n      <td>7064.059594</td>\n      <td>0.000000</td>\n      <td>0.000000</td>\n      <td>2268158.0</td>\n    </tr>\n    <tr>\n      <th>3</th>\n      <td>WRI1023777</td>\n      <td>2019-01-06</td>\n      <td>DZA</td>\n      <td>36.599</td>\n      <td>3.138</td>\n      <td>Gas</td>\n      <td>2317.807497</td>\n      <td>560.0</td>\n      <td>48578.000000</td>\n      <td>0.000000</td>\n      <td>2572.465576</td>\n      <td>33298784.0</td>\n    </tr>\n    <tr>\n      <th>4</th>\n      <td>WRI1023792</td>\n      <td>2019-01-06</td>\n      <td>DZA</td>\n      <td>36.591</td>\n      <td>2.922</td>\n      <td>Gas</td>\n      <td>413.894196</td>\n      <td>100.0</td>\n      <td>2060.413086</td>\n      <td>0.000000</td>\n      <td>6145.056152</td>\n      <td>16438202.0</td>\n    </tr>\n    <tr>\n      <th>...</th>\n      <td>...</td>\n      <td>...</td>\n      <td>...</td>\n      <td>...</td>\n      <td>...</td>\n      <td>...</td>\n      <td>...</td>\n      <td>...</td>\n      <td>...</td>\n      <td>...</td>\n      <td>...</td>\n      <td>...</td>\n    </tr>\n    <tr>\n      <th>447975</th>\n      <td>WRI1022376</td>\n      <td>2019-12-29</td>\n      <td>ZMB</td>\n      <td>-17.353</td>\n      <td>27.186</td>\n      <td>Coal</td>\n      <td>NaN</td>\n      <td>300.0</td>\n      <td>NaN</td>\n      <td>2904.101562</td>\n      <td>27470.878906</td>\n      <td>109063128.0</td>\n    </tr>\n    <tr>\n      <th>447976</th>\n      <td>WRI1022390</td>\n      <td>2019-12-29</td>\n      <td>ZMB</td>\n      <td>-12.550</td>\n      <td>28.233</td>\n      <td>Oil</td>\n      <td>24.174528</td>\n      <td>10.0</td>\n      <td>581.118469</td>\n      <td>8050.207031</td>\n      <td>2955.868164</td>\n      <td>21576880.0</td>\n    </tr>\n    <tr>\n      <th>447977</th>\n      <td>WRI1022386</td>\n      <td>2019-12-29</td>\n      <td>ZMB</td>\n      <td>-12.967</td>\n      <td>28.633</td>\n      <td>Oil</td>\n      <td>120.872642</td>\n      <td>50.0</td>\n      <td>123.753326</td>\n      <td>11604.954102</td>\n      <td>4977.986328</td>\n      <td>26606196.0</td>\n    </tr>\n    <tr>\n      <th>447978</th>\n      <td>WRI1022384</td>\n      <td>2019-12-29</td>\n      <td>ZMB</td>\n      <td>-12.817</td>\n      <td>28.200</td>\n      <td>Oil</td>\n      <td>48.349057</td>\n      <td>20.0</td>\n      <td>1162.236938</td>\n      <td>7332.768066</td>\n      <td>2400.902344</td>\n      <td>28459432.0</td>\n    </tr>\n    <tr>\n      <th>447979</th>\n      <td>GEODB0040404</td>\n      <td>2019-12-29</td>\n      <td>ZWE</td>\n      <td>-18.384</td>\n      <td>26.470</td>\n      <td>Coal</td>\n      <td>4397.000000</td>\n      <td>920.0</td>\n      <td>84624.390625</td>\n      <td>34100.468750</td>\n      <td>70906.992188</td>\n      <td>157432816.0</td>\n    </tr>\n  </tbody>\n</table>\n<p>447980 rows × 12 columns</p>\n</div>"
     },
     "metadata": {},
     "execution_count": 2
    }
   ],
   "source": [
    "lite = db.SQLiteCon('dirt_db.sqlite')\n",
    "predictions = lite.sql_to_pandas('predictions')\n",
    "predictions"
   ]
  },
  {
   "cell_type": "code",
   "execution_count": 3,
   "metadata": {},
   "outputs": [],
   "source": [
    "post = db.PostgreSQLCon(schema='production')\n",
    "post.pandas_to_sql(predictions, 'predictions')"
   ]
  },
  {
   "cell_type": "code",
   "execution_count": null,
   "metadata": {},
   "outputs": [],
   "source": []
  }
 ]
}